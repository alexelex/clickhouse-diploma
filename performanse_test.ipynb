{
  "nbformat": 4,
  "nbformat_minor": 0,
  "metadata": {
    "colab": {
      "name": "Untitled0.ipynb",
      "provenance": []
    },
    "kernelspec": {
      "name": "python3",
      "display_name": "Python 3"
    },
    "language_info": {
      "name": "python"
    }
  },
  "cells": [
    {
      "cell_type": "code",
      "metadata": {
        "id": "ZLT9TGNXNR-Z"
      },
      "source": [
        "import numpy as np\n",
        "from matplotlib import pyplot as plt\n",
        "import seaborn as sns\n",
        "sns.set_theme(style=\"whitegrid\")"
      ],
      "execution_count": 8,
      "outputs": []
    },
    {
      "cell_type": "code",
      "metadata": {
        "id": "-cRgGV4gNxMN"
      },
      "source": [
        "default = [\n",
        "[0.003, 0.002, 0.002],\n",
        "[0.050, 0.124, 0.030],\n",
        "[0.417, 0.076, 0.080],\n",
        "[2.066, 0.103, 0.099],\n",
        "[2.056, 0.242, 0.218],\n",
        "[3.325, 0.679, 0.652],\n",
        "[0.092, 0.059, 0.063],\n",
        "[0.039, 0.030, 0.030],\n",
        "[2.921, 1.321, 1.309],\n",
        "[3.382, 1.525, 1.534],\n",
        "[2.184, 0.409, 0.398],\n",
        "[2.275, 0.497, 0.498],\n",
        "[3.942, 2.246, 2.206],\n",
        "[6.451, 3.171, 3.155],\n",
        "[4.533, 2.912, 2.923],\n",
        "[3.382, 2.917, 2.899],\n",
        "[9.938, 8.803, 8.917],\n",
        "[6.192, 5.096, 5.091],\n",
        "[19.138, 17.563, 17.252],\n",
        "[2.068, 0.186, 0.107],\n",
        "[24.521, 1.981, 2.018],\n",
        "[27.886, 2.163, 2.164],\n",
        "[51.649, 5.386, 5.271],\n",
        "[46.023, 2.615, 2.513],\n",
        "[6.965, 0.724, 0.712],\n",
        "[3.341, 0.600, 0.583],\n",
        "[6.978, 0.724, 0.705],\n",
        "[24.503, 1.866, 1.814],\n",
        "[20.817, 3.125, 3.116],\n",
        "[4.054, 4.031, 4.022],\n",
        "[6.096, 1.903, 1.871],\n",
        "[14.241, 3.392, 3.262],\n",
        "[25.035, 24.338, 25.156],\n",
        "[27.763, 11.223, 11.309],\n",
        "[27.577, 10.649, 10.585],\n",
        "[5.115, 4.884, 4.823],\n",
        "[0.379, 0.336, 0.268],\n",
        "[0.147, 0.099, 0.088],\n",
        "[0.186, 0.087, 0.085],\n",
        "[0.791, 0.590, 0.565],\n",
        "[0.130, 0.038, 0.031],\n",
        "[0.066, 0.020, 0.026],\n",
        "[0.018, 0.016, 0.017]\n",
        "]\n",
        "\n",
        "encrypted_1 = [\n",
        "[0.002, 0.002, 0.002],\n",
        "[0.101, 0.104, 0.021],\n",
        "[0.421, 0.089, 0.087],\n",
        "[2.087, 0.118, 0.115],\n",
        "[2.062, 0.238, 0.241],\n",
        "[3.326, 0.651, 0.642],\n",
        "[0.086, 0.048, 0.048],\n",
        "[0.035, 0.024, 0.024],\n",
        "[2.948, 1.207, 1.222],\n",
        "[3.451, 1.395, 1.403],\n",
        "[2.201, 0.404, 0.388],\n",
        "[2.279, 0.461, 0.465],\n",
        "[3.836, 1.857, 1.856],\n",
        "[6.275, 2.643, 2.686],\n",
        "[4.353, 2.420, 2.376],\n",
        "[3.136, 2.442, 2.401],\n",
        "[8.783, 7.382, 7.359],\n",
        "[5.931, 4.519, 4.604],\n",
        "[17.275, 15.422, 15.371],\n",
        "[2.081, 0.174, 0.179],\n",
        "[24.505, 2.208, 2.202],\n",
        "[27.918, 2.338, 2.243],\n",
        "[51.728, 5.414, 5.323],\n",
        "[47.401, 2.842, 2.845],\n",
        "[7.024, 0.737, 0.727],\n",
        "[3.303, 0.546, 0.547],\n",
        "[6.968, 0.725, 0.713],\n",
        "[24.535, 1.872, 1.836],\n",
        "[20.864, 3.021, 2.891],\n",
        "[3.266, 3.183, 3.196],\n",
        "[6.007, 1.697, 1.685],\n",
        "[14.006, 3.000, 2.951],\n",
        "[22.496, 20.563, 21.140],\n",
        "[27.196, 10.001, 9.987],\n",
        "[27.063, 10.200, 9.971],\n",
        "[4.566, 4.325, 4.253],\n",
        "[0.361, 0.304, 0.258],\n",
        "[0.142, 0.091, 0.092],\n",
        "[0.204, 0.102, 0.093],\n",
        "[0.764, 0.601, 0.546],\n",
        "[0.090, 0.043, 0.040],\n",
        "[0.063, 0.020, 0.020],\n",
        "[0.018, 0.006, 0.020],\n",
        "]\n",
        "\n",
        "encrypted_2 = [\n",
        "[0.013, 0.002, 0.002],\n",
        "[0.068, 0.021, 0.024],\n",
        "[0.400, 0.084, 0.080],\n",
        "[2.063, 0.116, 0.116],\n",
        "[2.084, 0.253, 0.239],\n",
        "[3.315, 0.654, 0.637],\n",
        "[0.052, 0.051, 0.052],\n",
        "[0.037, 0.044, 0.025],\n",
        "[2.909, 1.252, 1.239],\n",
        "[3.411, 1.435, 1.411],\n",
        "[2.198, 0.395, 0.392],\n",
        "[2.288, 0.469, 0.457],\n",
        "[3.829, 1.876, 1.928],\n",
        "[6.279, 2.731, 2.736],\n",
        "[4.362, 2.447, 2.443],\n",
        "[3.126, 2.377, 2.410],\n",
        "[8.795, 7.296, 7.118],\n",
        "[5.841, 4.561, 4.454],\n",
        "[16.855, 15.062, 15.121],\n",
        "[2.066, 0.158, 0.138],\n",
        "[24.476, 2.401, 2.340],\n",
        "[27.918, 2.532, 2.447],\n",
        "[51.681, 5.435, 5.540],\n",
        "[45.845, 2.851, 2.763],\n",
        "[6.978, 0.730, 0.708],\n",
        "[3.308, 0.538, 0.536],\n",
        "[6.983, 0.729, 0.716],\n",
        "[24.519, 1.848, 1.841],\n",
        "[20.798, 3.107, 3.129],\n",
        "[4.924, 3.841, 3.800],\n",
        "[6.064, 1.679, 1.653],\n",
        "[13.977, 2.962, 2.938],\n",
        "[22.366, 20.595, 20.734],\n",
        "[27.089, 9.876, 9.720],\n",
        "[27.129, 9.675, 9.748],\n",
        "[4.381, 4.058, 4.014],\n",
        "[0.350, 0.265, 0.229],\n",
        "[0.140, 0.084, 0.086],\n",
        "[0.188, 0.082, 0.083],\n",
        "[0.751, 0.524, 0.527],\n",
        "[0.092, 0.056, 0.032],\n",
        "[0.083, 0.022, 0.020],\n",
        "[0.018, 0.006, 0.005],\n",
        "]\n",
        "\n",
        "normal_1 = [\n",
        "[0.002, 0.002, 0.002],\n",
        "[0.039, 0.026, 0.021],\n",
        "[0.394, 0.069, 0.073],\n",
        "[2.047, 0.096, 0.090],\n",
        "[2.054, 0.198, 0.194],\n",
        "[3.320, 0.562, 0.589],\n",
        "[0.052, 0.044, 0.044],\n",
        "[0.030, 0.024, 0.023],\n",
        "[2.890, 1.158, 1.119],\n",
        "[3.370, 1.355, 1.365],\n",
        "[2.167, 0.342, 0.337],\n",
        "[2.258, 0.427, 0.425],\n",
        "[3.806, 1.837, 1.745],\n",
        "[6.229, 2.520, 2.485],\n",
        "[4.302, 2.337, 2.253],\n",
        "[3.061, 2.284, 2.292],\n",
        "[8.576, 7.071, 7.044],\n",
        "[5.796, 4.240, 4.236],\n",
        "[16.667, 15.074, 14.861],\n",
        "[2.067, 0.125, 0.107],\n",
        "[24.489, 1.887, 1.861],\n",
        "[27.887, 1.954, 1.942],\n",
        "[51.630, 4.972, 4.866],\n",
        "[44.482, 2.374, 2.333],\n",
        "[6.969, 0.679, 0.656],\n",
        "[3.310, 0.536, 0.524],\n",
        "[6.970, 0.658, 0.650],\n",
        "[24.515, 1.621, 1.581],\n",
        "[20.784, 2.728, 2.627],\n",
        "[3.847, 3.784, 3.813],\n",
        "[6.002, 1.612, 1.566],\n",
        "[14.000, 2.740, 2.772],\n",
        "[22.522, 20.467, 20.559],\n",
        "[27.155, 9.193, 9.180],\n",
        "[27.119, 9.098, 9.141],\n",
        "[4.169, 4.048, 4.085],\n",
        "[0.326, 0.225, 0.242],\n",
        "[0.120, 0.075, 0.084],\n",
        "[0.170, 0.090, 0.080],\n",
        "[0.672, 0.505, 0.508],\n",
        "[0.051, 0.023, 0.037],\n",
        "[0.062, 0.019, 0.021],\n",
        "[0.011, 0.005, 0.018],\n",
        "]\n",
        "\n",
        "normal_2 = [\n",
        "[0.017, 0.002, 0.002],\n",
        "[0.039, 0.022, 0.019],\n",
        "[0.396, 0.082, 0.072],\n",
        "[2.050, 0.095, 0.122],\n",
        "[2.059, 0.203, 0.196],\n",
        "[3.310, 0.585, 0.608],\n",
        "[0.051, 0.045, 0.045],\n",
        "[0.033, 0.026, 0.026],\n",
        "[2.896, 1.239, 1.254],\n",
        "[3.391, 1.419, 1.355],\n",
        "[2.171, 0.371, 0.365],\n",
        "[2.262, 0.460, 0.453],\n",
        "[3.862, 1.925, 1.913],\n",
        "[6.301, 2.724, 2.737],\n",
        "[4.405, 2.492, 2.473],\n",
        "[3.169, 2.471, 2.483],\n",
        "[8.876, 7.461, 7.273],\n",
        "[5.900, 4.328, 4.277],\n",
        "[16.690, 14.830, 14.787],\n",
        "[2.053, 0.119, 0.102],\n",
        "[24.497, 1.742, 1.750],\n",
        "[27.890, 1.994, 2.033],\n",
        "[51.617, 4.912, 4.829],\n",
        "[44.448, 2.355, 2.313],\n",
        "[6.988, 0.641, 0.627],\n",
        "[3.304, 0.534, 0.508],\n",
        "[7.007, 0.631, 0.626],\n",
        "[24.517, 1.652, 1.632],\n",
        "[20.787, 2.779, 2.655],\n",
        "[3.744, 3.681, 3.695],\n",
        "[6.003, 1.558, 1.601],\n",
        "[14.006, 2.762, 2.782],\n",
        "[22.349, 20.625, 20.793],\n",
        "[27.197, 9.675, 9.576],\n",
        "[27.107, 9.248, 9.301],\n",
        "[4.251, 4.059, 3.982],\n",
        "[0.331, 0.248, 0.268],\n",
        "[0.137, 0.089, 0.087],\n",
        "[0.157, 0.078, 0.079],\n",
        "[0.710, 0.496, 0.514],\n",
        "[0.052, 0.023, 0.022],\n",
        "[0.049, 0.016, 0.020],\n",
        "[0.012, 0.008, 0.027],\n",
        "]\n",
        "\n",
        "encrypted_3 = [\n",
        "[0.003, 0.002, 0.002],\n",
        "[0.033, 0.023, 0.021],\n",
        "[0.404, 0.081, 0.083],\n",
        "[2.065, 0.114, 0.115],\n",
        "[2.055, 0.238, 0.231],\n",
        "[3.337, 0.632, 0.620],\n",
        "[0.053, 0.048, 0.048],\n",
        "[0.035, 0.028, 0.024],\n",
        "[2.927, 1.218, 1.172],\n",
        "[3.445, 1.465, 1.378],\n",
        "[2.173, 0.392, 0.373],\n",
        "[2.320, 0.447, 0.447],\n",
        "[3.885, 1.874, 1.806],\n",
        "[6.271, 2.620, 2.592],\n",
        "[4.363, 2.393, 2.432],\n",
        "[3.135, 2.372, 2.320],\n",
        "[8.671, 7.172, 7.209],\n",
        "[5.922, 4.299, 4.320],\n",
        "[17.088, 15.873, 16.121],\n",
        "[2.122, 0.148, 0.136],\n",
        "[24.507, 2.438, 2.383],\n",
        "[27.974, 2.400, 2.380],\n",
        "[51.708, 5.689, 5.393],\n",
        "[45.807, 3.029, 2.914],\n",
        "[6.978, 0.765, 0.732],\n",
        "[3.304, 0.543, 0.527],\n",
        "[6.973, 0.735, 0.718],\n",
        "[24.523, 1.874, 1.832],\n",
        "[20.812, 3.030, 2.956],\n",
        "[3.705, 3.689, 3.693],\n",
        "[5.998, 1.701, 1.696],\n",
        "[14.045, 3.014, 3.042],\n",
        "[22.496, 20.537, 20.589],\n",
        "[27.312, 10.343, 10.125],\n",
        "[27.208, 10.101, 10.324],\n",
        "[4.960, 4.712, 4.358],\n",
        "[0.404, 0.282, 0.302],\n",
        "[0.146, 0.095, 0.092],\n",
        "[0.184, 0.109, 0.109],\n",
        "[0.791, 0.551, 0.525],\n",
        "[0.081, 0.039, 0.028],\n",
        "[0.066, 0.041, 0.024],\n",
        "[0.014, 0.005, 0.005],\n",
        "]\n",
        "\n",
        "normal_3 = [\n",
        "[0.002, 0.002, 0.002],\n",
        "[0.026, 0.019, 0.019],\n",
        "[0.398, 0.071, 0.072],\n",
        "[2.077, 0.113, 0.094],\n",
        "[2.059, 0.201, 0.197],\n",
        "[3.309, 0.627, 0.623],\n",
        "[0.064, 0.050, 0.049],\n",
        "[0.031, 0.025, 0.025],\n",
        "[2.958, 1.225, 1.227],\n",
        "[3.391, 1.412, 1.415],\n",
        "[2.165, 0.371, 0.362],\n",
        "[2.258, 0.448, 0.451],\n",
        "[3.836, 1.870, 1.871],\n",
        "[6.329, 2.621, 2.649],\n",
        "[4.346, 2.289, 2.300],\n",
        "[3.142, 2.353, 2.337],\n",
        "[8.632, 7.130, 7.088],\n",
        "[5.800, 4.308, 4.285],\n",
        "[16.796, 14.952, 14.859],\n",
        "[2.052, 0.122, 0.103],\n",
        "[24.573, 1.901, 1.883],\n",
        "[27.958, 1.970, 1.891],\n",
        "[51.649, 4.626, 4.580],\n",
        "[44.580, 2.232, 2.128],\n",
        "[7.041, 0.604, 0.603],\n",
        "[3.310, 0.511, 0.501],\n",
        "[6.962, 0.653, 0.640],\n",
        "[24.583, 1.589, 1.541],\n",
        "[20.829, 2.693, 2.661],\n",
        "[3.840, 3.762, 3.785],\n",
        "[5.988, 1.619, 1.587],\n",
        "[14.023, 2.760, 2.698],\n",
        "[22.364, 20.424, 20.310],\n",
        "[27.209, 9.169, 9.316],\n",
        "[27.223, 9.383, 9.332],\n",
        "[4.286, 4.161, 4.073],\n",
        "[0.319, 0.255, 0.243],\n",
        "[0.122, 0.088, 0.078],\n",
        "[0.161, 0.079, 0.081],\n",
        "[0.661, 0.488, 0.509],\n",
        "[0.069, 0.031, 0.035],\n",
        "[0.051, 0.017, 0.017],\n",
        "[0.010, 0.007, 0.010],\n",
        "]"
      ],
      "execution_count": 51,
      "outputs": []
    },
    {
      "cell_type": "code",
      "metadata": {
        "id": "iu0jxyLxPGKY"
      },
      "source": [
        "encrypted3 = np.mean(np.array([encrypted_1, encrypted_2, encrypted_3]), axis=0)\n",
        "normal3 = np.mean(np.array([normal_1, normal_2, normal_3]), axis=0)\n",
        "\n",
        "encrypted2 = np.mean(np.array([encrypted_1, encrypted_2]), axis=0)\n",
        "normal2 = np.mean(np.array([normal_1, normal_2]), axis=0)"
      ],
      "execution_count": 52,
      "outputs": []
    },
    {
      "cell_type": "code",
      "metadata": {
        "id": "1CYq-hwuNUz0"
      },
      "source": [
        "def full_plot(encrypted, normal):\n",
        "  ind = np.arange(len(encrypted))\n",
        "  fig = plt.figure(figsize=(18, 7))\n",
        "\n",
        "  ax = fig.add_axes([0,0,1,1])\n",
        "  width = 0.35\n",
        "  ax.bar(ind + 0.00, normal[:, 0], color = 'dodgerblue', width=width)\n",
        "  ax.bar(ind + 0.00, normal[:, 1], color = 'blue', width=width, bottom=normal[:, 0])\n",
        "  ax.bar(ind + 0.00, normal[:, 2], color = 'midnightblue', width=width, bottom=(normal[:, 0] + normal[:, 1]))\n",
        "  ax.bar(ind + 0.33, encrypted[:, 0], color = 'limegreen', width=width)\n",
        "  ax.bar(ind + 0.33, encrypted[:, 1], color = 'green', width=width, bottom=encrypted[:, 0])\n",
        "  ax.bar(ind + 0.33, encrypted[:, 2], color = 'darkgreen', width=width, bottom=(encrypted[:, 0] + encrypted[:, 1]))\n",
        "\n",
        "  ax.set_title('SELECT query benchmarks')\n",
        "  ax.legend(labels=['Local', 'Encrypted'])\n",
        "  plt.show()"
      ],
      "execution_count": 53,
      "outputs": []
    },
    {
      "cell_type": "code",
      "metadata": {
        "id": "cu96Y-ePQp7z"
      },
      "source": [
        "def part_plot(encrypted, normal):\n",
        "  ind = np.arange(len(encrypted))\n",
        "  fig = plt.figure(figsize=(18, 8))\n",
        "\n",
        "  diff = encrypted[:, 0] - normal[:, 0]\n",
        "\n",
        "  ax = fig.add_axes([0,0,1,1])\n",
        "  width = 0.5\n",
        "  ax.bar(ind, normal[:, 0], color = 'dodgerblue', width=width)\n",
        "  ax.bar(ind, diff, color = 'red', width=width, bottom=normal[0:, 0])\n",
        "\n",
        "  ax.set_title('SELECT query benchmarks')\n",
        "  ax.legend(labels=['Local', 'Encrypted'])\n",
        "  plt.ylim(0, 60)\n",
        "  plt.show()"
      ],
      "execution_count": 54,
      "outputs": []
    },
    {
      "cell_type": "code",
      "metadata": {
        "id": "EIxbU175Tae2"
      },
      "source": [
        "def mean_of_percent(encrypted, normal):\n",
        "  return np.mean(100 * (encrypted[:, 0] - normal[:, 0])/normal[:, 0])"
      ],
      "execution_count": 62,
      "outputs": []
    },
    {
      "cell_type": "code",
      "metadata": {
        "id": "JhiCOQL3bKB2"
      },
      "source": [
        "def percent_of_sum(encrypted, normal):\n",
        "  return 100 * (np.sum(encrypted[:, 0]) - np.sum(normal[:, 0]))/np.sum(normal[:, 0])"
      ],
      "execution_count": 63,
      "outputs": []
    },
    {
      "cell_type": "code",
      "metadata": {
        "colab": {
          "base_uri": "https://localhost:8080/",
          "height": 570
        },
        "id": "_orIHzfPb90_",
        "outputId": "2e121097-ee27-4d54-c4b5-4712d37c6509"
      },
      "source": [
        "full_plot(encrypted2, normal2)"
      ],
      "execution_count": 57,
      "outputs": [
        {
          "output_type": "display_data",
          "data": {
            "image/png": "[encoded data removed]",
            "text/plain": [
              "<Figure size 1296x504 with 1 Axes>"
            ]
          },
          "metadata": {
            "tags": []
          }
        }
      ]
    },
    {
      "cell_type": "code",
      "metadata": {
        "colab": {
          "base_uri": "https://localhost:8080/",
          "height": 570
        },
        "id": "8dHwlkBqlPoP",
        "outputId": "02fba32a-6f34-44ac-8dbf-70a2e213407e"
      },
      "source": [
        "full_plot(encrypted3, normal3)"
      ],
      "execution_count": 58,
      "outputs": [
        {
          "output_type": "display_data",
          "data": {
            "image/png": "[encoded data removed]",
            "text/plain": [
              "<Figure size 1296x504 with 1 Axes>"
            ]
          },
          "metadata": {
            "tags": []
          }
        }
      ]
    },
    {
      "cell_type": "code",
      "metadata": {
        "colab": {
          "base_uri": "https://localhost:8080/",
          "height": 642
        },
        "id": "i5J2QHUrlS5H",
        "outputId": "b35d2acc-76d1-4199-f854-9d40b3f21edb"
      },
      "source": [
        "part_plot(encrypted2, normal2)"
      ],
      "execution_count": 59,
      "outputs": [
        {
          "output_type": "display_data",
          "data": {
            "image/png": "[encoded data removed]",
            "text/plain": [
              "<Figure size 1296x576 with 1 Axes>"
            ]
          },
          "metadata": {
            "tags": []
          }
        }
      ]
    },
    {
      "cell_type": "code",
      "metadata": {
        "colab": {
          "base_uri": "https://localhost:8080/",
          "height": 642
        },
        "id": "j1oNjxs1lZxu",
        "outputId": "286b67be-b3af-416b-95a0-0dd1cf882c9a"
      },
      "source": [
        "part_plot(encrypted3, normal3)"
      ],
      "execution_count": 60,
      "outputs": [
        {
          "output_type": "display_data",
          "data": {
            "image/png": "[encoded data removed]",
            "text/plain": [
              "<Figure size 1296x576 with 1 Axes>"
            ]
          },
          "metadata": {
            "tags": []
          }
        }
      ]
    },
    {
      "cell_type": "code",
      "metadata": {
        "colab": {
          "base_uri": "https://localhost:8080/"
        },
        "id": "9mRs7w21lbru",
        "outputId": "33ce4102-292a-411d-eb1c-185e44af8d88"
      },
      "source": [
        "mean_of_percent(encrypted2, normal2)"
      ],
      "execution_count": 64,
      "outputs": [
        {
          "output_type": "execute_result",
          "data": {
            "text/plain": [
              "9.125770628981023"
            ]
          },
          "metadata": {
            "tags": []
          },
          "execution_count": 64
        }
      ]
    },
    {
      "cell_type": "code",
      "metadata": {
        "colab": {
          "base_uri": "https://localhost:8080/"
        },
        "id": "ExVuEtbClh-8",
        "outputId": "f849cd36-6ff8-4574-eeed-32e3cae9a98e"
      },
      "source": [
        "mean_of_percent(encrypted3, normal3)"
      ],
      "execution_count": 65,
      "outputs": [
        {
          "output_type": "execute_result",
          "data": {
            "text/plain": [
              "7.794073671849192"
            ]
          },
          "metadata": {
            "tags": []
          },
          "execution_count": 65
        }
      ]
    },
    {
      "cell_type": "code",
      "metadata": {
        "colab": {
          "base_uri": "https://localhost:8080/"
        },
        "id": "b1jFT97alsL7",
        "outputId": "53886501-8e67-4f3c-a915-f777eb8ca370"
      },
      "source": [
        "percent_of_sum(encrypted2, normal2)"
      ],
      "execution_count": 66,
      "outputs": [
        {
          "output_type": "execute_result",
          "data": {
            "text/plain": [
              "0.9988622847391012"
            ]
          },
          "metadata": {
            "tags": []
          },
          "execution_count": 66
        }
      ]
    },
    {
      "cell_type": "code",
      "metadata": {
        "colab": {
          "base_uri": "https://localhost:8080/"
        },
        "id": "gYCVSD1-lnjG",
        "outputId": "8fdbba92-f6e4-400f-a4f6-66857c4af6cc"
      },
      "source": [
        "percent_of_sum(encrypted3, normal3)"
      ],
      "execution_count": 67,
      "outputs": [
        {
          "output_type": "execute_result",
          "data": {
            "text/plain": [
              "0.9084707337535469"
            ]
          },
          "metadata": {
            "tags": []
          },
          "execution_count": 67
        }
      ]
    }
  ]
}